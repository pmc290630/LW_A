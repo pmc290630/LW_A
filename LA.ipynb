{
 "cells": [
  {
   "cell_type": "code",
   "execution_count": 1,
   "id": "003b79c8",
   "metadata": {},
   "outputs": [],
   "source": [
    "import pandas as pd\n",
    "import seaborn as sns"
   ]
  },
  {
   "cell_type": "code",
   "execution_count": 2,
   "id": "954642f9",
   "metadata": {},
   "outputs": [],
   "source": [
    "df = pd.read_json(\"./data/scans.json\",lines = True)"
   ]
  },
  {
   "cell_type": "markdown",
   "id": "6ab18102",
   "metadata": {},
   "source": [
    "## Wie sehen die Daten aus?"
   ]
  },
  {
   "cell_type": "code",
   "execution_count": 3,
   "id": "e92e901f",
   "metadata": {},
   "outputs": [
    {
     "data": {
      "text/html": [
       "<div>\n",
       "<style scoped>\n",
       "    .dataframe tbody tr th:only-of-type {\n",
       "        vertical-align: middle;\n",
       "    }\n",
       "\n",
       "    .dataframe tbody tr th {\n",
       "        vertical-align: top;\n",
       "    }\n",
       "\n",
       "    .dataframe thead th {\n",
       "        text-align: right;\n",
       "    }\n",
       "</style>\n",
       "<table border=\"1\" class=\"dataframe\">\n",
       "  <thead>\n",
       "    <tr style=\"text-align: right;\">\n",
       "      <th></th>\n",
       "      <th>scanTimestamp</th>\n",
       "      <th>locationId</th>\n",
       "      <th>userId</th>\n",
       "      <th>scanMinutes</th>\n",
       "      <th>indexCase</th>\n",
       "    </tr>\n",
       "  </thead>\n",
       "  <tbody>\n",
       "    <tr>\n",
       "      <th>0</th>\n",
       "      <td>1618221536</td>\n",
       "      <td>a8f303e723297b4</td>\n",
       "      <td>x1cad2ea574d0e291</td>\n",
       "      <td>64</td>\n",
       "      <td>False</td>\n",
       "    </tr>\n",
       "    <tr>\n",
       "      <th>1</th>\n",
       "      <td>1618244176</td>\n",
       "      <td>x6ba61b42d5c4e641</td>\n",
       "      <td>7f8aeb9aaac301a1</td>\n",
       "      <td>91</td>\n",
       "      <td>False</td>\n",
       "    </tr>\n",
       "    <tr>\n",
       "      <th>2</th>\n",
       "      <td>1618235530</td>\n",
       "      <td>35b0e22fa29673e7</td>\n",
       "      <td>x2f0c35058f3505e9</td>\n",
       "      <td>69</td>\n",
       "      <td>False</td>\n",
       "    </tr>\n",
       "    <tr>\n",
       "      <th>3</th>\n",
       "      <td>1618221097</td>\n",
       "      <td>381fbbe5bea1f6ec</td>\n",
       "      <td>x20c464aeffa23142</td>\n",
       "      <td>62</td>\n",
       "      <td>False</td>\n",
       "    </tr>\n",
       "    <tr>\n",
       "      <th>4</th>\n",
       "      <td>1618236175</td>\n",
       "      <td>x1b85abcc497d0df3</td>\n",
       "      <td>3c72b592c9840ee8</td>\n",
       "      <td>82</td>\n",
       "      <td>False</td>\n",
       "    </tr>\n",
       "    <tr>\n",
       "      <th>...</th>\n",
       "      <td>...</td>\n",
       "      <td>...</td>\n",
       "      <td>...</td>\n",
       "      <td>...</td>\n",
       "      <td>...</td>\n",
       "    </tr>\n",
       "    <tr>\n",
       "      <th>13950</th>\n",
       "      <td>1618222318</td>\n",
       "      <td>x1367508230579fd1</td>\n",
       "      <td>f22a16895832d1d</td>\n",
       "      <td>91</td>\n",
       "      <td>False</td>\n",
       "    </tr>\n",
       "    <tr>\n",
       "      <th>13951</th>\n",
       "      <td>1618230454</td>\n",
       "      <td>1ddade21b1760622</td>\n",
       "      <td>x1fd0475c2c92e822</td>\n",
       "      <td>97</td>\n",
       "      <td>False</td>\n",
       "    </tr>\n",
       "    <tr>\n",
       "      <th>13952</th>\n",
       "      <td>1618229503</td>\n",
       "      <td>1c8f2823649d3ee4</td>\n",
       "      <td>x221ce60441f7391</td>\n",
       "      <td>84</td>\n",
       "      <td>False</td>\n",
       "    </tr>\n",
       "    <tr>\n",
       "      <th>13953</th>\n",
       "      <td>1618244663</td>\n",
       "      <td>4258e690ea55a16e</td>\n",
       "      <td>x5f105ba78c374ccc</td>\n",
       "      <td>102</td>\n",
       "      <td>False</td>\n",
       "    </tr>\n",
       "    <tr>\n",
       "      <th>13954</th>\n",
       "      <td>1618222016</td>\n",
       "      <td>x50f63a1cbb5538ed</td>\n",
       "      <td>28d625dbe724138b</td>\n",
       "      <td>93</td>\n",
       "      <td>False</td>\n",
       "    </tr>\n",
       "  </tbody>\n",
       "</table>\n",
       "<p>13955 rows × 5 columns</p>\n",
       "</div>"
      ],
      "text/plain": [
       "       scanTimestamp         locationId             userId  scanMinutes  \\\n",
       "0         1618221536    a8f303e723297b4  x1cad2ea574d0e291           64   \n",
       "1         1618244176  x6ba61b42d5c4e641   7f8aeb9aaac301a1           91   \n",
       "2         1618235530   35b0e22fa29673e7  x2f0c35058f3505e9           69   \n",
       "3         1618221097   381fbbe5bea1f6ec  x20c464aeffa23142           62   \n",
       "4         1618236175  x1b85abcc497d0df3   3c72b592c9840ee8           82   \n",
       "...              ...                ...                ...          ...   \n",
       "13950     1618222318  x1367508230579fd1    f22a16895832d1d           91   \n",
       "13951     1618230454   1ddade21b1760622  x1fd0475c2c92e822           97   \n",
       "13952     1618229503   1c8f2823649d3ee4   x221ce60441f7391           84   \n",
       "13953     1618244663   4258e690ea55a16e  x5f105ba78c374ccc          102   \n",
       "13954     1618222016  x50f63a1cbb5538ed   28d625dbe724138b           93   \n",
       "\n",
       "       indexCase  \n",
       "0          False  \n",
       "1          False  \n",
       "2          False  \n",
       "3          False  \n",
       "4          False  \n",
       "...          ...  \n",
       "13950      False  \n",
       "13951      False  \n",
       "13952      False  \n",
       "13953      False  \n",
       "13954      False  \n",
       "\n",
       "[13955 rows x 5 columns]"
      ]
     },
     "execution_count": 3,
     "metadata": {},
     "output_type": "execute_result"
    }
   ],
   "source": [
    "df"
   ]
  },
  {
   "cell_type": "code",
   "execution_count": 4,
   "id": "dfea7e40",
   "metadata": {},
   "outputs": [
    {
     "data": {
      "text/plain": [
       "1"
      ]
     },
     "execution_count": 4,
     "metadata": {},
     "output_type": "execute_result"
    }
   ],
   "source": [
    "df.duplicated().nunique()"
   ]
  },
  {
   "cell_type": "markdown",
   "id": "ef1c2776",
   "metadata": {},
   "source": [
    "Es gibt keine doppelten Datensätze"
   ]
  },
  {
   "cell_type": "markdown",
   "id": "1f22862e",
   "metadata": {},
   "source": [
    "# Die Aufgabenstellung\n",
    "\n",
    "Finde alle Kontaktpersonen (\"userId\") einer infizierten Person\n",
    "(\"indexCase\": true), die sich zur selben Zeit im selben Raum\n",
    "(\"locationId\") aufhielten, und berechne anhand von Scan-Zeitpunkten\n",
    "(\"scanTimestamp\") und Scan-Dauer (\"scanMinutes\") für diese Personen die\n",
    "Gesamtkontaktdauer zum Infizierten. Welche Personen haben ein hohes\n",
    "Risiko, sich mit Corona angesteckt zu haben?"
   ]
  },
  {
   "cell_type": "markdown",
   "id": "f21062fc",
   "metadata": {},
   "source": [
    "# Die Variablen"
   ]
  },
  {
   "cell_type": "markdown",
   "id": "f45ee239",
   "metadata": {},
   "source": [
    "### scanTimestamp\n",
    "\n",
    "Unix TimeStamp wann der Eintritt in die location stattfand"
   ]
  },
  {
   "cell_type": "markdown",
   "id": "b75693c4",
   "metadata": {},
   "source": [
    "### locationId\n",
    "\n",
    "OrtID"
   ]
  },
  {
   "cell_type": "markdown",
   "id": "1156b453",
   "metadata": {},
   "source": [
    "### userId\n",
    "\n",
    "ID des Nutzers"
   ]
  },
  {
   "cell_type": "markdown",
   "id": "6c072272",
   "metadata": {},
   "source": [
    "### scanMinutes\n",
    "\n",
    "Dauer in Minuten zwischen Eintritt (scanTimestamp) bis zum Verlassen der location"
   ]
  },
  {
   "cell_type": "markdown",
   "id": "1e199b7e",
   "metadata": {},
   "source": [
    "### indexCase\n",
    "\n",
    "Corona-infiziert?"
   ]
  },
  {
   "cell_type": "markdown",
   "id": "90d519da",
   "metadata": {},
   "source": [
    "# Finde alle gefährdeten Personen\n",
    "\n",
    "+ Finde alle Personen die eine Zeitüberschneidung mit den infizierten Personen haben am selben Ort\n",
    "+ Gruppiere die risikogefährdeten Personen nach Zeitbins in unterschiedliche Gruppen"
   ]
  },
  {
   "cell_type": "markdown",
   "id": "dae4024f",
   "metadata": {},
   "source": [
    "### Datenset umbauen mit klarem Zeitintervall auf dem Zahlenstrahl"
   ]
  },
  {
   "cell_type": "code",
   "execution_count": 5,
   "id": "df1d2943",
   "metadata": {},
   "outputs": [],
   "source": [
    "df.rename(columns={\"scanTimestamp\": \"enter\"},inplace=True)"
   ]
  },
  {
   "cell_type": "code",
   "execution_count": 6,
   "id": "4f619346",
   "metadata": {},
   "outputs": [],
   "source": [
    "df[\"scanSecs\"] =  df.scanMinutes*60\n",
    "df[\"leave\"] = df.enter + df.scanSecs\n",
    "df[\"date\"] = df.enter.apply(lambda x: pd.Timestamp(x, unit = \"s\").date())\n",
    "df[\"date\"] = pd.to_datetime(df[\"date\"])"
   ]
  },
  {
   "cell_type": "code",
   "execution_count": 7,
   "id": "aadcfa31",
   "metadata": {},
   "outputs": [
    {
     "data": {
      "text/html": [
       "<div>\n",
       "<style scoped>\n",
       "    .dataframe tbody tr th:only-of-type {\n",
       "        vertical-align: middle;\n",
       "    }\n",
       "\n",
       "    .dataframe tbody tr th {\n",
       "        vertical-align: top;\n",
       "    }\n",
       "\n",
       "    .dataframe thead th {\n",
       "        text-align: right;\n",
       "    }\n",
       "</style>\n",
       "<table border=\"1\" class=\"dataframe\">\n",
       "  <thead>\n",
       "    <tr style=\"text-align: right;\">\n",
       "      <th></th>\n",
       "      <th>enter</th>\n",
       "      <th>locationId</th>\n",
       "      <th>userId</th>\n",
       "      <th>scanMinutes</th>\n",
       "      <th>indexCase</th>\n",
       "      <th>scanSecs</th>\n",
       "      <th>leave</th>\n",
       "      <th>date</th>\n",
       "    </tr>\n",
       "  </thead>\n",
       "  <tbody>\n",
       "    <tr>\n",
       "      <th>0</th>\n",
       "      <td>1618221536</td>\n",
       "      <td>a8f303e723297b4</td>\n",
       "      <td>x1cad2ea574d0e291</td>\n",
       "      <td>64</td>\n",
       "      <td>False</td>\n",
       "      <td>3840</td>\n",
       "      <td>1618225376</td>\n",
       "      <td>2021-04-12</td>\n",
       "    </tr>\n",
       "    <tr>\n",
       "      <th>1</th>\n",
       "      <td>1618244176</td>\n",
       "      <td>x6ba61b42d5c4e641</td>\n",
       "      <td>7f8aeb9aaac301a1</td>\n",
       "      <td>91</td>\n",
       "      <td>False</td>\n",
       "      <td>5460</td>\n",
       "      <td>1618249636</td>\n",
       "      <td>2021-04-12</td>\n",
       "    </tr>\n",
       "    <tr>\n",
       "      <th>2</th>\n",
       "      <td>1618235530</td>\n",
       "      <td>35b0e22fa29673e7</td>\n",
       "      <td>x2f0c35058f3505e9</td>\n",
       "      <td>69</td>\n",
       "      <td>False</td>\n",
       "      <td>4140</td>\n",
       "      <td>1618239670</td>\n",
       "      <td>2021-04-12</td>\n",
       "    </tr>\n",
       "    <tr>\n",
       "      <th>3</th>\n",
       "      <td>1618221097</td>\n",
       "      <td>381fbbe5bea1f6ec</td>\n",
       "      <td>x20c464aeffa23142</td>\n",
       "      <td>62</td>\n",
       "      <td>False</td>\n",
       "      <td>3720</td>\n",
       "      <td>1618224817</td>\n",
       "      <td>2021-04-12</td>\n",
       "    </tr>\n",
       "    <tr>\n",
       "      <th>4</th>\n",
       "      <td>1618236175</td>\n",
       "      <td>x1b85abcc497d0df3</td>\n",
       "      <td>3c72b592c9840ee8</td>\n",
       "      <td>82</td>\n",
       "      <td>False</td>\n",
       "      <td>4920</td>\n",
       "      <td>1618241095</td>\n",
       "      <td>2021-04-12</td>\n",
       "    </tr>\n",
       "    <tr>\n",
       "      <th>...</th>\n",
       "      <td>...</td>\n",
       "      <td>...</td>\n",
       "      <td>...</td>\n",
       "      <td>...</td>\n",
       "      <td>...</td>\n",
       "      <td>...</td>\n",
       "      <td>...</td>\n",
       "      <td>...</td>\n",
       "    </tr>\n",
       "    <tr>\n",
       "      <th>13950</th>\n",
       "      <td>1618222318</td>\n",
       "      <td>x1367508230579fd1</td>\n",
       "      <td>f22a16895832d1d</td>\n",
       "      <td>91</td>\n",
       "      <td>False</td>\n",
       "      <td>5460</td>\n",
       "      <td>1618227778</td>\n",
       "      <td>2021-04-12</td>\n",
       "    </tr>\n",
       "    <tr>\n",
       "      <th>13951</th>\n",
       "      <td>1618230454</td>\n",
       "      <td>1ddade21b1760622</td>\n",
       "      <td>x1fd0475c2c92e822</td>\n",
       "      <td>97</td>\n",
       "      <td>False</td>\n",
       "      <td>5820</td>\n",
       "      <td>1618236274</td>\n",
       "      <td>2021-04-12</td>\n",
       "    </tr>\n",
       "    <tr>\n",
       "      <th>13952</th>\n",
       "      <td>1618229503</td>\n",
       "      <td>1c8f2823649d3ee4</td>\n",
       "      <td>x221ce60441f7391</td>\n",
       "      <td>84</td>\n",
       "      <td>False</td>\n",
       "      <td>5040</td>\n",
       "      <td>1618234543</td>\n",
       "      <td>2021-04-12</td>\n",
       "    </tr>\n",
       "    <tr>\n",
       "      <th>13953</th>\n",
       "      <td>1618244663</td>\n",
       "      <td>4258e690ea55a16e</td>\n",
       "      <td>x5f105ba78c374ccc</td>\n",
       "      <td>102</td>\n",
       "      <td>False</td>\n",
       "      <td>6120</td>\n",
       "      <td>1618250783</td>\n",
       "      <td>2021-04-12</td>\n",
       "    </tr>\n",
       "    <tr>\n",
       "      <th>13954</th>\n",
       "      <td>1618222016</td>\n",
       "      <td>x50f63a1cbb5538ed</td>\n",
       "      <td>28d625dbe724138b</td>\n",
       "      <td>93</td>\n",
       "      <td>False</td>\n",
       "      <td>5580</td>\n",
       "      <td>1618227596</td>\n",
       "      <td>2021-04-12</td>\n",
       "    </tr>\n",
       "  </tbody>\n",
       "</table>\n",
       "<p>13955 rows × 8 columns</p>\n",
       "</div>"
      ],
      "text/plain": [
       "            enter         locationId             userId  scanMinutes  \\\n",
       "0      1618221536    a8f303e723297b4  x1cad2ea574d0e291           64   \n",
       "1      1618244176  x6ba61b42d5c4e641   7f8aeb9aaac301a1           91   \n",
       "2      1618235530   35b0e22fa29673e7  x2f0c35058f3505e9           69   \n",
       "3      1618221097   381fbbe5bea1f6ec  x20c464aeffa23142           62   \n",
       "4      1618236175  x1b85abcc497d0df3   3c72b592c9840ee8           82   \n",
       "...           ...                ...                ...          ...   \n",
       "13950  1618222318  x1367508230579fd1    f22a16895832d1d           91   \n",
       "13951  1618230454   1ddade21b1760622  x1fd0475c2c92e822           97   \n",
       "13952  1618229503   1c8f2823649d3ee4   x221ce60441f7391           84   \n",
       "13953  1618244663   4258e690ea55a16e  x5f105ba78c374ccc          102   \n",
       "13954  1618222016  x50f63a1cbb5538ed   28d625dbe724138b           93   \n",
       "\n",
       "       indexCase  scanSecs       leave       date  \n",
       "0          False      3840  1618225376 2021-04-12  \n",
       "1          False      5460  1618249636 2021-04-12  \n",
       "2          False      4140  1618239670 2021-04-12  \n",
       "3          False      3720  1618224817 2021-04-12  \n",
       "4          False      4920  1618241095 2021-04-12  \n",
       "...          ...       ...         ...        ...  \n",
       "13950      False      5460  1618227778 2021-04-12  \n",
       "13951      False      5820  1618236274 2021-04-12  \n",
       "13952      False      5040  1618234543 2021-04-12  \n",
       "13953      False      6120  1618250783 2021-04-12  \n",
       "13954      False      5580  1618227596 2021-04-12  \n",
       "\n",
       "[13955 rows x 8 columns]"
      ]
     },
     "execution_count": 7,
     "metadata": {},
     "output_type": "execute_result"
    }
   ],
   "source": [
    "df"
   ]
  },
  {
   "cell_type": "code",
   "execution_count": 8,
   "id": "e9c16e45",
   "metadata": {},
   "outputs": [
    {
     "name": "stdout",
     "output_type": "stream",
     "text": [
      "<class 'pandas.core.frame.DataFrame'>\n",
      "RangeIndex: 13955 entries, 0 to 13954\n",
      "Data columns (total 8 columns):\n",
      " #   Column       Non-Null Count  Dtype         \n",
      "---  ------       --------------  -----         \n",
      " 0   enter        13955 non-null  int64         \n",
      " 1   locationId   13955 non-null  object        \n",
      " 2   userId       13955 non-null  object        \n",
      " 3   scanMinutes  13955 non-null  int64         \n",
      " 4   indexCase    13955 non-null  bool          \n",
      " 5   scanSecs     13955 non-null  int64         \n",
      " 6   leave        13955 non-null  int64         \n",
      " 7   date         13955 non-null  datetime64[ns]\n",
      "dtypes: bool(1), datetime64[ns](1), int64(4), object(2)\n",
      "memory usage: 776.9+ KB\n"
     ]
    }
   ],
   "source": [
    "df.info()"
   ]
  },
  {
   "cell_type": "code",
   "execution_count": 9,
   "id": "891085b9",
   "metadata": {},
   "outputs": [
    {
     "data": {
      "text/plain": [
       "enter           8687\n",
       "locationId       175\n",
       "userId          4020\n",
       "scanMinutes       52\n",
       "indexCase          2\n",
       "scanSecs          52\n",
       "leave          10871\n",
       "date               1\n",
       "dtype: int64"
      ]
     },
     "execution_count": 9,
     "metadata": {},
     "output_type": "execute_result"
    }
   ],
   "source": [
    "df.nunique()"
   ]
  },
  {
   "cell_type": "markdown",
   "id": "6f3696a8",
   "metadata": {},
   "source": [
    "### Subfazit\n",
    "\n",
    "Es gibt 4020 unterschiedliche Personen und 175 unterschiedliche Orte. Der gesamte Datensatz betrachtet nur einen einzigen Tag, den 2021-04-12. \n",
    "\n",
    "Der Datensatz hat eine Größe von 13955 Beobachtungen, d. h. dass es 13955 Registrierungen einer Person an einem Ort gab."
   ]
  },
  {
   "cell_type": "code",
   "execution_count": 10,
   "id": "1c2e7633",
   "metadata": {},
   "outputs": [
    {
     "data": {
      "text/plain": [
       "datetime.date(2021, 4, 12)"
      ]
     },
     "execution_count": 10,
     "metadata": {},
     "output_type": "execute_result"
    }
   ],
   "source": [
    "date = df.date[0].date()\n",
    "date"
   ]
  },
  {
   "cell_type": "markdown",
   "id": "e0562111",
   "metadata": {},
   "source": [
    "### Alle infizierten Personen: df_sick"
   ]
  },
  {
   "cell_type": "code",
   "execution_count": 11,
   "id": "0c80ddf8",
   "metadata": {},
   "outputs": [],
   "source": [
    "df_sick = df[df[\"indexCase\"] == True]"
   ]
  },
  {
   "cell_type": "code",
   "execution_count": 12,
   "id": "9331c5d6",
   "metadata": {},
   "outputs": [
    {
     "data": {
      "text/html": [
       "<div>\n",
       "<style scoped>\n",
       "    .dataframe tbody tr th:only-of-type {\n",
       "        vertical-align: middle;\n",
       "    }\n",
       "\n",
       "    .dataframe tbody tr th {\n",
       "        vertical-align: top;\n",
       "    }\n",
       "\n",
       "    .dataframe thead th {\n",
       "        text-align: right;\n",
       "    }\n",
       "</style>\n",
       "<table border=\"1\" class=\"dataframe\">\n",
       "  <thead>\n",
       "    <tr style=\"text-align: right;\">\n",
       "      <th></th>\n",
       "      <th>enter</th>\n",
       "      <th>locationId</th>\n",
       "      <th>userId</th>\n",
       "      <th>scanMinutes</th>\n",
       "      <th>indexCase</th>\n",
       "      <th>scanSecs</th>\n",
       "      <th>leave</th>\n",
       "      <th>date</th>\n",
       "    </tr>\n",
       "  </thead>\n",
       "  <tbody>\n",
       "    <tr>\n",
       "      <th>2275</th>\n",
       "      <td>1618237658</td>\n",
       "      <td>x28d7ad68647cfd8f</td>\n",
       "      <td>x1d2f457ffccd37c6</td>\n",
       "      <td>94</td>\n",
       "      <td>True</td>\n",
       "      <td>5640</td>\n",
       "      <td>1618243298</td>\n",
       "      <td>2021-04-12</td>\n",
       "    </tr>\n",
       "    <tr>\n",
       "      <th>3798</th>\n",
       "      <td>1618221985</td>\n",
       "      <td>x28d7ad68647cfd8f</td>\n",
       "      <td>x1d2f457ffccd37c6</td>\n",
       "      <td>92</td>\n",
       "      <td>True</td>\n",
       "      <td>5520</td>\n",
       "      <td>1618227505</td>\n",
       "      <td>2021-04-12</td>\n",
       "    </tr>\n",
       "    <tr>\n",
       "      <th>9402</th>\n",
       "      <td>1618229117</td>\n",
       "      <td>x50444ff334d4b9af</td>\n",
       "      <td>x1d2f457ffccd37c6</td>\n",
       "      <td>95</td>\n",
       "      <td>True</td>\n",
       "      <td>5700</td>\n",
       "      <td>1618234817</td>\n",
       "      <td>2021-04-12</td>\n",
       "    </tr>\n",
       "    <tr>\n",
       "      <th>11049</th>\n",
       "      <td>1618251864</td>\n",
       "      <td>x50444ff334d4b9af</td>\n",
       "      <td>x1d2f457ffccd37c6</td>\n",
       "      <td>94</td>\n",
       "      <td>True</td>\n",
       "      <td>5640</td>\n",
       "      <td>1618257504</td>\n",
       "      <td>2021-04-12</td>\n",
       "    </tr>\n",
       "    <tr>\n",
       "      <th>12994</th>\n",
       "      <td>1618242930</td>\n",
       "      <td>x33e8e9d0b59c661</td>\n",
       "      <td>x1d2f457ffccd37c6</td>\n",
       "      <td>60</td>\n",
       "      <td>True</td>\n",
       "      <td>3600</td>\n",
       "      <td>1618246530</td>\n",
       "      <td>2021-04-12</td>\n",
       "    </tr>\n",
       "  </tbody>\n",
       "</table>\n",
       "</div>"
      ],
      "text/plain": [
       "            enter         locationId             userId  scanMinutes  \\\n",
       "2275   1618237658  x28d7ad68647cfd8f  x1d2f457ffccd37c6           94   \n",
       "3798   1618221985  x28d7ad68647cfd8f  x1d2f457ffccd37c6           92   \n",
       "9402   1618229117  x50444ff334d4b9af  x1d2f457ffccd37c6           95   \n",
       "11049  1618251864  x50444ff334d4b9af  x1d2f457ffccd37c6           94   \n",
       "12994  1618242930   x33e8e9d0b59c661  x1d2f457ffccd37c6           60   \n",
       "\n",
       "       indexCase  scanSecs       leave       date  \n",
       "2275        True      5640  1618243298 2021-04-12  \n",
       "3798        True      5520  1618227505 2021-04-12  \n",
       "9402        True      5700  1618234817 2021-04-12  \n",
       "11049       True      5640  1618257504 2021-04-12  \n",
       "12994       True      3600  1618246530 2021-04-12  "
      ]
     },
     "execution_count": 12,
     "metadata": {},
     "output_type": "execute_result"
    }
   ],
   "source": [
    "df_sick"
   ]
  },
  {
   "cell_type": "code",
   "execution_count": 13,
   "id": "a11dbb92",
   "metadata": {},
   "outputs": [
    {
     "data": {
      "text/plain": [
       "enter          5\n",
       "locationId     3\n",
       "userId         1\n",
       "scanMinutes    4\n",
       "indexCase      1\n",
       "scanSecs       4\n",
       "leave          5\n",
       "date           1\n",
       "dtype: int64"
      ]
     },
     "execution_count": 13,
     "metadata": {},
     "output_type": "execute_result"
    }
   ],
   "source": [
    "df_sick.nunique()"
   ]
  },
  {
   "cell_type": "markdown",
   "id": "fa111608",
   "metadata": {},
   "source": [
    "### Subfazit\n",
    "\n",
    "Es gibt im gesamten Datensatz nur eine Person mit Corona. Diese Person war in 5 unterschiedlichen locactions."
   ]
  },
  {
   "cell_type": "markdown",
   "id": "92587291",
   "metadata": {},
   "source": [
    "## Überlegung\n",
    "\n",
    "+ sickPerson: Person mit Corona\n",
    "+ riskPerson: Person mit potentieller Chance Corona durch Kontakt zu bekommen\n",
    "\n",
    "#### Idee\n",
    "\n",
    "Damit eine zeitliche Überschneidung stattfindet muss entweder\n",
    "+ die riskPerson im Zeitintervall der Anwesenheit der sickPerson die location betreten\n",
    "+ oder im Zeitintervall der Anwesenheit der sickPerson die location verlassen."
   ]
  },
  {
   "cell_type": "code",
   "execution_count": 14,
   "id": "1996030f",
   "metadata": {},
   "outputs": [],
   "source": [
    "df_riskpeople = pd.DataFrame()\n",
    "\n",
    "df0 = df[df[\"indexCase\"] == False]\n",
    "\n",
    "for enter, leave, locationId in zip(df_sick.enter, df_sick.leave, df_sick.locationId):\n",
    "    #riskperson kommt im Riskinterval\n",
    "    #riskperson geht im Riskinterval\n",
    "    \n",
    "    df_part = df0[((df0[\"enter\"]>= enter) | (df0[\"leave\"]<= leave)) & (df0[\"locationId\"] == locationId)]\n",
    "    #df_part = df0[(df0[\"locationId\"] == locationId )]\n",
    "    \n",
    "    df_riskpeople = pd.concat([df_riskpeople, df_part], axis=0)"
   ]
  },
  {
   "cell_type": "code",
   "execution_count": 15,
   "id": "b32defee",
   "metadata": {},
   "outputs": [
    {
     "name": "stdout",
     "output_type": "stream",
     "text": [
      "<class 'pandas.core.frame.DataFrame'>\n",
      "Int64Index: 350 entries, 44 to 13817\n",
      "Data columns (total 8 columns):\n",
      " #   Column       Non-Null Count  Dtype         \n",
      "---  ------       --------------  -----         \n",
      " 0   enter        350 non-null    int64         \n",
      " 1   locationId   350 non-null    object        \n",
      " 2   userId       350 non-null    object        \n",
      " 3   scanMinutes  350 non-null    int64         \n",
      " 4   indexCase    350 non-null    bool          \n",
      " 5   scanSecs     350 non-null    int64         \n",
      " 6   leave        350 non-null    int64         \n",
      " 7   date         350 non-null    datetime64[ns]\n",
      "dtypes: bool(1), datetime64[ns](1), int64(4), object(2)\n",
      "memory usage: 22.2+ KB\n"
     ]
    }
   ],
   "source": [
    "df_riskpeople.info()"
   ]
  },
  {
   "cell_type": "code",
   "execution_count": 16,
   "id": "714d38c8",
   "metadata": {},
   "outputs": [
    {
     "data": {
      "text/plain": [
       "enter          198\n",
       "locationId       3\n",
       "userId          74\n",
       "scanMinutes     51\n",
       "indexCase        1\n",
       "scanSecs        51\n",
       "leave          199\n",
       "date             1\n",
       "dtype: int64"
      ]
     },
     "execution_count": 16,
     "metadata": {},
     "output_type": "execute_result"
    }
   ],
   "source": [
    "df_riskpeople.nunique()"
   ]
  },
  {
   "cell_type": "code",
   "execution_count": 17,
   "id": "1f464edf",
   "metadata": {},
   "outputs": [
    {
     "data": {
      "text/html": [
       "<div>\n",
       "<style scoped>\n",
       "    .dataframe tbody tr th:only-of-type {\n",
       "        vertical-align: middle;\n",
       "    }\n",
       "\n",
       "    .dataframe tbody tr th {\n",
       "        vertical-align: top;\n",
       "    }\n",
       "\n",
       "    .dataframe thead th {\n",
       "        text-align: right;\n",
       "    }\n",
       "</style>\n",
       "<table border=\"1\" class=\"dataframe\">\n",
       "  <thead>\n",
       "    <tr style=\"text-align: right;\">\n",
       "      <th></th>\n",
       "      <th>enter</th>\n",
       "      <th>locationId</th>\n",
       "      <th>userId</th>\n",
       "      <th>scanMinutes</th>\n",
       "      <th>indexCase</th>\n",
       "      <th>scanSecs</th>\n",
       "      <th>leave</th>\n",
       "      <th>date</th>\n",
       "    </tr>\n",
       "  </thead>\n",
       "  <tbody>\n",
       "    <tr>\n",
       "      <th>44</th>\n",
       "      <td>1618214506</td>\n",
       "      <td>x28d7ad68647cfd8f</td>\n",
       "      <td>1b70a4f6b1a2cc77</td>\n",
       "      <td>93</td>\n",
       "      <td>False</td>\n",
       "      <td>5580</td>\n",
       "      <td>1618220086</td>\n",
       "      <td>2021-04-12</td>\n",
       "    </tr>\n",
       "    <tr>\n",
       "      <th>150</th>\n",
       "      <td>1618243503</td>\n",
       "      <td>x28d7ad68647cfd8f</td>\n",
       "      <td>6315f8ce44ffb576</td>\n",
       "      <td>97</td>\n",
       "      <td>False</td>\n",
       "      <td>5820</td>\n",
       "      <td>1618249323</td>\n",
       "      <td>2021-04-12</td>\n",
       "    </tr>\n",
       "    <tr>\n",
       "      <th>253</th>\n",
       "      <td>1618251514</td>\n",
       "      <td>x28d7ad68647cfd8f</td>\n",
       "      <td>6a42ebcd40e1215</td>\n",
       "      <td>84</td>\n",
       "      <td>False</td>\n",
       "      <td>5040</td>\n",
       "      <td>1618256554</td>\n",
       "      <td>2021-04-12</td>\n",
       "    </tr>\n",
       "    <tr>\n",
       "      <th>381</th>\n",
       "      <td>1618243383</td>\n",
       "      <td>x28d7ad68647cfd8f</td>\n",
       "      <td>x3d61515a1942a2e8</td>\n",
       "      <td>67</td>\n",
       "      <td>False</td>\n",
       "      <td>4020</td>\n",
       "      <td>1618247403</td>\n",
       "      <td>2021-04-12</td>\n",
       "    </tr>\n",
       "    <tr>\n",
       "      <th>469</th>\n",
       "      <td>1618236397</td>\n",
       "      <td>x28d7ad68647cfd8f</td>\n",
       "      <td>x61c3b41a955d1cb9</td>\n",
       "      <td>104</td>\n",
       "      <td>False</td>\n",
       "      <td>6240</td>\n",
       "      <td>1618242637</td>\n",
       "      <td>2021-04-12</td>\n",
       "    </tr>\n",
       "    <tr>\n",
       "      <th>...</th>\n",
       "      <td>...</td>\n",
       "      <td>...</td>\n",
       "      <td>...</td>\n",
       "      <td>...</td>\n",
       "      <td>...</td>\n",
       "      <td>...</td>\n",
       "      <td>...</td>\n",
       "      <td>...</td>\n",
       "    </tr>\n",
       "    <tr>\n",
       "      <th>13298</th>\n",
       "      <td>1618244197</td>\n",
       "      <td>x33e8e9d0b59c661</td>\n",
       "      <td>383216286a6d24ed</td>\n",
       "      <td>81</td>\n",
       "      <td>False</td>\n",
       "      <td>4860</td>\n",
       "      <td>1618249057</td>\n",
       "      <td>2021-04-12</td>\n",
       "    </tr>\n",
       "    <tr>\n",
       "      <th>13416</th>\n",
       "      <td>1618229188</td>\n",
       "      <td>x33e8e9d0b59c661</td>\n",
       "      <td>x5ddb1649abf2159b</td>\n",
       "      <td>69</td>\n",
       "      <td>False</td>\n",
       "      <td>4140</td>\n",
       "      <td>1618233328</td>\n",
       "      <td>2021-04-12</td>\n",
       "    </tr>\n",
       "    <tr>\n",
       "      <th>13527</th>\n",
       "      <td>1618251752</td>\n",
       "      <td>x33e8e9d0b59c661</td>\n",
       "      <td>x15a4b54d998d8463</td>\n",
       "      <td>86</td>\n",
       "      <td>False</td>\n",
       "      <td>5160</td>\n",
       "      <td>1618256912</td>\n",
       "      <td>2021-04-12</td>\n",
       "    </tr>\n",
       "    <tr>\n",
       "      <th>13670</th>\n",
       "      <td>1618243743</td>\n",
       "      <td>x33e8e9d0b59c661</td>\n",
       "      <td>30723b215852be59</td>\n",
       "      <td>67</td>\n",
       "      <td>False</td>\n",
       "      <td>4020</td>\n",
       "      <td>1618247763</td>\n",
       "      <td>2021-04-12</td>\n",
       "    </tr>\n",
       "    <tr>\n",
       "      <th>13817</th>\n",
       "      <td>1618223385</td>\n",
       "      <td>x33e8e9d0b59c661</td>\n",
       "      <td>x5ddb1649abf2159b</td>\n",
       "      <td>97</td>\n",
       "      <td>False</td>\n",
       "      <td>5820</td>\n",
       "      <td>1618229205</td>\n",
       "      <td>2021-04-12</td>\n",
       "    </tr>\n",
       "  </tbody>\n",
       "</table>\n",
       "<p>350 rows × 8 columns</p>\n",
       "</div>"
      ],
      "text/plain": [
       "            enter         locationId             userId  scanMinutes  \\\n",
       "44     1618214506  x28d7ad68647cfd8f   1b70a4f6b1a2cc77           93   \n",
       "150    1618243503  x28d7ad68647cfd8f   6315f8ce44ffb576           97   \n",
       "253    1618251514  x28d7ad68647cfd8f    6a42ebcd40e1215           84   \n",
       "381    1618243383  x28d7ad68647cfd8f  x3d61515a1942a2e8           67   \n",
       "469    1618236397  x28d7ad68647cfd8f  x61c3b41a955d1cb9          104   \n",
       "...           ...                ...                ...          ...   \n",
       "13298  1618244197   x33e8e9d0b59c661   383216286a6d24ed           81   \n",
       "13416  1618229188   x33e8e9d0b59c661  x5ddb1649abf2159b           69   \n",
       "13527  1618251752   x33e8e9d0b59c661  x15a4b54d998d8463           86   \n",
       "13670  1618243743   x33e8e9d0b59c661   30723b215852be59           67   \n",
       "13817  1618223385   x33e8e9d0b59c661  x5ddb1649abf2159b           97   \n",
       "\n",
       "       indexCase  scanSecs       leave       date  \n",
       "44         False      5580  1618220086 2021-04-12  \n",
       "150        False      5820  1618249323 2021-04-12  \n",
       "253        False      5040  1618256554 2021-04-12  \n",
       "381        False      4020  1618247403 2021-04-12  \n",
       "469        False      6240  1618242637 2021-04-12  \n",
       "...          ...       ...         ...        ...  \n",
       "13298      False      4860  1618249057 2021-04-12  \n",
       "13416      False      4140  1618233328 2021-04-12  \n",
       "13527      False      5160  1618256912 2021-04-12  \n",
       "13670      False      4020  1618247763 2021-04-12  \n",
       "13817      False      5820  1618229205 2021-04-12  \n",
       "\n",
       "[350 rows x 8 columns]"
      ]
     },
     "execution_count": 17,
     "metadata": {},
     "output_type": "execute_result"
    }
   ],
   "source": [
    "df_riskpeople"
   ]
  },
  {
   "cell_type": "markdown",
   "id": "9f500f31",
   "metadata": {},
   "source": [
    "### Subfazit\n",
    "\n",
    "Mit der infizierten Person gibt es 350 zeitliche Überschneidungen von insgesamt 74 unterschiedlichen Personen."
   ]
  },
  {
   "cell_type": "markdown",
   "id": "4f9abf30",
   "metadata": {},
   "source": [
    "# Ausgabeformat\n",
    "\n",
    "Im Sinne des Datenschutzes nehme ich an, dass nur wichtig ist zu wissen ob eine Person gefährdet ist oder nicht. Um Quarantänemaßnahmen zu planen oder anderweitiges wohl auch das Datum. Beim Ort kann man eventuell zu gute Rückschlüsse ziehen, wer die infizierte Person ist. \n",
    "\n",
    "Aber im Sinne der Auswertung werde ich für jede Person userId, alle locationId das date und contact_num (Anzahl der Kontakte) ausgeben."
   ]
  },
  {
   "cell_type": "code",
   "execution_count": 18,
   "id": "4067eef8",
   "metadata": {},
   "outputs": [
    {
     "data": {
      "text/html": [
       "<div>\n",
       "<style scoped>\n",
       "    .dataframe tbody tr th:only-of-type {\n",
       "        vertical-align: middle;\n",
       "    }\n",
       "\n",
       "    .dataframe tbody tr th {\n",
       "        vertical-align: top;\n",
       "    }\n",
       "\n",
       "    .dataframe thead th {\n",
       "        text-align: right;\n",
       "    }\n",
       "</style>\n",
       "<table border=\"1\" class=\"dataframe\">\n",
       "  <thead>\n",
       "    <tr style=\"text-align: right;\">\n",
       "      <th></th>\n",
       "      <th>locations</th>\n",
       "      <th>contact_num</th>\n",
       "      <th>date</th>\n",
       "    </tr>\n",
       "    <tr>\n",
       "      <th>userId</th>\n",
       "      <th></th>\n",
       "      <th></th>\n",
       "      <th></th>\n",
       "    </tr>\n",
       "  </thead>\n",
       "  <tbody>\n",
       "    <tr>\n",
       "      <th>1b70a4f6b1a2cc77</th>\n",
       "      <td>[x28d7ad68647cfd8f]</td>\n",
       "      <td>1</td>\n",
       "      <td>2021-04-12</td>\n",
       "    </tr>\n",
       "    <tr>\n",
       "      <th>6315f8ce44ffb576</th>\n",
       "      <td>[x28d7ad68647cfd8f]</td>\n",
       "      <td>1</td>\n",
       "      <td>2021-04-12</td>\n",
       "    </tr>\n",
       "    <tr>\n",
       "      <th>6a42ebcd40e1215</th>\n",
       "      <td>[x28d7ad68647cfd8f]</td>\n",
       "      <td>1</td>\n",
       "      <td>2021-04-12</td>\n",
       "    </tr>\n",
       "    <tr>\n",
       "      <th>x3d61515a1942a2e8</th>\n",
       "      <td>[x28d7ad68647cfd8f]</td>\n",
       "      <td>1</td>\n",
       "      <td>2021-04-12</td>\n",
       "    </tr>\n",
       "    <tr>\n",
       "      <th>x61c3b41a955d1cb9</th>\n",
       "      <td>[x28d7ad68647cfd8f, x50444ff334d4b9af]</td>\n",
       "      <td>2</td>\n",
       "      <td>2021-04-12</td>\n",
       "    </tr>\n",
       "    <tr>\n",
       "      <th>...</th>\n",
       "      <td>...</td>\n",
       "      <td>...</td>\n",
       "      <td>...</td>\n",
       "    </tr>\n",
       "    <tr>\n",
       "      <th>x192622e2c2ad576e</th>\n",
       "      <td>[x33e8e9d0b59c661]</td>\n",
       "      <td>1</td>\n",
       "      <td>2021-04-12</td>\n",
       "    </tr>\n",
       "    <tr>\n",
       "      <th>x1f8f33aa2ae25eb1</th>\n",
       "      <td>[x33e8e9d0b59c661]</td>\n",
       "      <td>1</td>\n",
       "      <td>2021-04-12</td>\n",
       "    </tr>\n",
       "    <tr>\n",
       "      <th>x2493f06df9211cb4</th>\n",
       "      <td>[x33e8e9d0b59c661]</td>\n",
       "      <td>1</td>\n",
       "      <td>2021-04-12</td>\n",
       "    </tr>\n",
       "    <tr>\n",
       "      <th>d38c67a16832b92</th>\n",
       "      <td>[x33e8e9d0b59c661]</td>\n",
       "      <td>1</td>\n",
       "      <td>2021-04-12</td>\n",
       "    </tr>\n",
       "    <tr>\n",
       "      <th>x15a4b54d998d8463</th>\n",
       "      <td>[x33e8e9d0b59c661]</td>\n",
       "      <td>1</td>\n",
       "      <td>2021-04-12</td>\n",
       "    </tr>\n",
       "  </tbody>\n",
       "</table>\n",
       "<p>74 rows × 3 columns</p>\n",
       "</div>"
      ],
      "text/plain": [
       "                                                locations  contact_num  \\\n",
       "userId                                                                   \n",
       "1b70a4f6b1a2cc77                      [x28d7ad68647cfd8f]            1   \n",
       "6315f8ce44ffb576                      [x28d7ad68647cfd8f]            1   \n",
       "6a42ebcd40e1215                       [x28d7ad68647cfd8f]            1   \n",
       "x3d61515a1942a2e8                     [x28d7ad68647cfd8f]            1   \n",
       "x61c3b41a955d1cb9  [x28d7ad68647cfd8f, x50444ff334d4b9af]            2   \n",
       "...                                                   ...          ...   \n",
       "x192622e2c2ad576e                      [x33e8e9d0b59c661]            1   \n",
       "x1f8f33aa2ae25eb1                      [x33e8e9d0b59c661]            1   \n",
       "x2493f06df9211cb4                      [x33e8e9d0b59c661]            1   \n",
       "d38c67a16832b92                        [x33e8e9d0b59c661]            1   \n",
       "x15a4b54d998d8463                      [x33e8e9d0b59c661]            1   \n",
       "\n",
       "                         date  \n",
       "userId                         \n",
       "1b70a4f6b1a2cc77   2021-04-12  \n",
       "6315f8ce44ffb576   2021-04-12  \n",
       "6a42ebcd40e1215    2021-04-12  \n",
       "x3d61515a1942a2e8  2021-04-12  \n",
       "x61c3b41a955d1cb9  2021-04-12  \n",
       "...                       ...  \n",
       "x192622e2c2ad576e  2021-04-12  \n",
       "x1f8f33aa2ae25eb1  2021-04-12  \n",
       "x2493f06df9211cb4  2021-04-12  \n",
       "d38c67a16832b92    2021-04-12  \n",
       "x15a4b54d998d8463  2021-04-12  \n",
       "\n",
       "[74 rows x 3 columns]"
      ]
     },
     "execution_count": 18,
     "metadata": {},
     "output_type": "execute_result"
    }
   ],
   "source": [
    "df_output = pd.DataFrame(data = df_riskpeople[\"userId\"].unique(), columns=[\"userId\"])\n",
    "\n",
    "tmp = df_riskpeople.groupby(['userId'])['locationId'].unique().to_dict()\n",
    "df_output['locations'] = df_output['userId'].map(tmp)\n",
    "df_output[\"contact_num\"] = df_output[\"locations\"].apply(lambda x: len(x))\n",
    "df_output[\"contact_num\"] = df_output[\"contact_num\"].astype(int)\n",
    "df_output[\"date\"] = [date for _ in range(len(df_output))]\n",
    "#df_output[\"date\"] = pd.to_datetime(df_output[\"date\"])\n",
    "df_output.set_index(\"userId\", inplace=True)\n",
    "df_output"
   ]
  },
  {
   "cell_type": "code",
   "execution_count": 19,
   "id": "f8dc1247",
   "metadata": {},
   "outputs": [
    {
     "name": "stdout",
     "output_type": "stream",
     "text": [
      "<class 'pandas.core.frame.DataFrame'>\n",
      "Index: 74 entries, 1b70a4f6b1a2cc77 to x15a4b54d998d8463\n",
      "Data columns (total 3 columns):\n",
      " #   Column       Non-Null Count  Dtype \n",
      "---  ------       --------------  ----- \n",
      " 0   locations    74 non-null     object\n",
      " 1   contact_num  74 non-null     int64 \n",
      " 2   date         74 non-null     object\n",
      "dtypes: int64(1), object(2)\n",
      "memory usage: 2.3+ KB\n"
     ]
    }
   ],
   "source": [
    "df_output.info()"
   ]
  },
  {
   "cell_type": "code",
   "execution_count": 20,
   "id": "f1ca3d4a",
   "metadata": {},
   "outputs": [
    {
     "data": {
      "text/plain": [
       "Text(0.5, 1.0, 'Number of contacts with infected person')"
      ]
     },
     "execution_count": 20,
     "metadata": {},
     "output_type": "execute_result"
    },
    {
     "data": {
      "image/png": "[encoded data removed]",
      "text/plain": [
       "<Figure size 432x288 with 1 Axes>"
      ]
     },
     "metadata": {
      "needs_background": "light"
     },
     "output_type": "display_data"
    }
   ],
   "source": [
    "ax = sns.histplot(data = df_output,x = \"contact_num\")\n",
    "ax.set_title(\"Number of contacts with infected person\")"
   ]
  },
  {
   "cell_type": "markdown",
   "id": "ae5d1f14",
   "metadata": {},
   "source": [
    "Man kann ganz schön erkennen, dass die meisten Personen mit einem Kontakt nur einen Kontakt hatten. Sehr selten sind drei Kontakte. Um aufgrund der Häufigkeit eine Aussage zu treffen, müssten mehr Informationen vorliegen, ob dieses Kriterium in irgend einer Weise zu Buche schlägt. \n",
    "\n",
    "Weiterhin ist sicherlich auch interessant die zeitliche Überschneidungsdauer zu betrachten. Soweit meine Erinnerung, ist das Maß von 15 Minuten in großer Nähe bisher als Kriterium für eine hohe Ansteckungswahrscheinlichkeit gehandelt worden. Diese Information habe ich nicht extrahiert und ausgegeben und wäre Teil der weiteren Ausarbeitung.\n",
    "\n",
    "Für betroffene Menschen sind nach meiner Analyse, ausschließlich begründet auf wenigen Stunden Beschäftigung mit dem Thema hier, Erinnerungen und Nachdenken, wohl \n",
    "+ die binäre Aussage (Risiko ja/nein?)\n",
    "+ Datum der potentiellen Ansteckung\n",
    "+ Gradmesser für die Wahrscheinlichkeit einer Ansteckung bei Kontakt (begründet auf Dauer, Anzahl Kontakte...)\n"
   ]
  },
  {
   "cell_type": "markdown",
   "id": "6250fd28",
   "metadata": {},
   "source": [
    "## Speichern als .json"
   ]
  },
  {
   "cell_type": "code",
   "execution_count": 21,
   "id": "1ffe4d3f",
   "metadata": {},
   "outputs": [],
   "source": [
    "df_output.to_json(\"./data/riskPeople.json\", orient=\"values\")"
   ]
  },
  {
   "cell_type": "markdown",
   "id": "f859131f",
   "metadata": {},
   "source": [
    "# Ausblick\n",
    "\n",
    "Mit meiner Idee nutze ich die pandas Bibliothek von python, so wie ich es gelernt habe im DataScience Kurs. Hierbei werden alle Daten in den Arbeitsspeicher geladen. Ich kann mir vorstellen, dass mein Verfahren nicht geeignet ist für große Datenmengen.\n",
    "\n",
    "Mein anfängliches Ziel war die Überführung der Infektionsgefahr in einen Zeitstrahlvektor (errechnet aus allen Orten und Zeitintervallen der infizierten Personen) und einen locationVector entsprechend des Zeitstrahlvektors kodiert, um danach für die Auswertung durch ein einfaches inneres Produkt auszuwerten ob eine Person gefährdet ist oder nicht. Der Zeitstrahlvektor hätte nur Werte zwischen 0 und 1 enthalten (keine Ansteckungsgefahr, Ansteckungsgefahr). Der locationVektor hätte auch nur 0 und 1 enthalten (zur Zeit NICHT am Ort, zur Zeit SCHON am Ort). Ort wäre die Liste aller gefährdeten Orte gewesen. \n",
    "\n",
    "Die Gefahr ist ein sehr langer Zeitstrahlvektor bei vielen Infizierten und dadurch eine sehr große Segmentation und Rechenzeit. Bei wenigen infizierten wäre das Verfahren sehr schnell, da der Zeitstrahlvektor nur aufgrund der infizierten Personen errechnet wird und dann die Kodierung der Zeitesquenz klar wäre. Nun könnte nacheinander jede zu evaluierende gefährete Person geladen werden, deren locationVektor erstellt werden und über das innere Produkt eine errechnete Lösung getroffen werden. Alternativ kann aber auch einfach hier durch Fallunterscheidung das Ziel erreicht werden. \n",
    "\n",
    "Die Idee ist in keinster Weise ausgereift. Da es darum geht zu sehen wie ich analytisch mit dem meinem begrenzten Programmierwissen umgehe, wollte ich über meine sehr einfache Lösung hinaus noch etwas vorschlagen. \n",
    "\n",
    "Die Motivation ist ein Verfahren, dass durch MatrixMultiplikation zu einem binären Ergebnis kommt (die Suche nach einer Nicht-Datenbanksuch-Lösung) und Daten nacheinander laden kann.\n"
   ]
  }
 ],
 "metadata": {
  "kernelspec": {
   "display_name": "Python 3",
   "language": "python",
   "name": "python3"
  },
  "language_info": {
   "codemirror_mode": {
    "name": "ipython",
    "version": 3
   },
   "file_extension": ".py",
   "mimetype": "text/x-python",
   "name": "python",
   "nbconvert_exporter": "python",
   "pygments_lexer": "ipython3",
   "version": "3.8.5"
  }
 },
 "nbformat": 4,
 "nbformat_minor": 5
}
