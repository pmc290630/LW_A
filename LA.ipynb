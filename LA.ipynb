{
 "cells": [
  {
   "cell_type": "code",
   "execution_count": 1,
   "id": "7abfbea4",
   "metadata": {},
   "outputs": [],
   "source": [
    "import pandas as pd\n",
    "import seaborn as sns"
   ]
  },
  {
   "cell_type": "code",
   "execution_count": 2,
   "id": "fd33b8da",
   "metadata": {},
   "outputs": [],
   "source": [
    "df = pd.read_json(\"./data/scans.json\",lines = True)"
   ]
  },
  {
   "cell_type": "markdown",
   "id": "c274b49a",
   "metadata": {},
   "source": [
    "## Wie sehen die Daten aus?"
   ]
  },
  {
   "cell_type": "code",
   "execution_count": 3,
   "id": "7241081f",
   "metadata": {},
   "outputs": [
    {
     "data": {
      "text/html": [
       "<div>\n",
       "<style scoped>\n",
       "    .dataframe tbody tr th:only-of-type {\n",
       "        vertical-align: middle;\n",
       "    }\n",
       "\n",
       "    .dataframe tbody tr th {\n",
       "        vertical-align: top;\n",
       "    }\n",
       "\n",
       "    .dataframe thead th {\n",
       "        text-align: right;\n",
       "    }\n",
       "</style>\n",
       "<table border=\"1\" class=\"dataframe\">\n",
       "  <thead>\n",
       "    <tr style=\"text-align: right;\">\n",
       "      <th></th>\n",
       "      <th>scanTimestamp</th>\n",
       "      <th>locationId</th>\n",
       "      <th>userId</th>\n",
       "      <th>scanMinutes</th>\n",
       "      <th>indexCase</th>\n",
       "    </tr>\n",
       "  </thead>\n",
       "  <tbody>\n",
       "    <tr>\n",
       "      <th>0</th>\n",
       "      <td>1618221536</td>\n",
       "      <td>a8f303e723297b4</td>\n",
       "      <td>x1cad2ea574d0e291</td>\n",
       "      <td>64</td>\n",
       "      <td>False</td>\n",
       "    </tr>\n",
       "    <tr>\n",
       "      <th>1</th>\n",
       "      <td>1618244176</td>\n",
       "      <td>x6ba61b42d5c4e641</td>\n",
       "      <td>7f8aeb9aaac301a1</td>\n",
       "      <td>91</td>\n",
       "      <td>False</td>\n",
       "    </tr>\n",
       "    <tr>\n",
       "      <th>2</th>\n",
       "      <td>1618235530</td>\n",
       "      <td>35b0e22fa29673e7</td>\n",
       "      <td>x2f0c35058f3505e9</td>\n",
       "      <td>69</td>\n",
       "      <td>False</td>\n",
       "    </tr>\n",
       "    <tr>\n",
       "      <th>3</th>\n",
       "      <td>1618221097</td>\n",
       "      <td>381fbbe5bea1f6ec</td>\n",
       "      <td>x20c464aeffa23142</td>\n",
       "      <td>62</td>\n",
       "      <td>False</td>\n",
       "    </tr>\n",
       "    <tr>\n",
       "      <th>4</th>\n",
       "      <td>1618236175</td>\n",
       "      <td>x1b85abcc497d0df3</td>\n",
       "      <td>3c72b592c9840ee8</td>\n",
       "      <td>82</td>\n",
       "      <td>False</td>\n",
       "    </tr>\n",
       "  </tbody>\n",
       "</table>\n",
       "</div>"
      ],
      "text/plain": [
       "   scanTimestamp         locationId             userId  scanMinutes  indexCase\n",
       "0     1618221536    a8f303e723297b4  x1cad2ea574d0e291           64      False\n",
       "1     1618244176  x6ba61b42d5c4e641   7f8aeb9aaac301a1           91      False\n",
       "2     1618235530   35b0e22fa29673e7  x2f0c35058f3505e9           69      False\n",
       "3     1618221097   381fbbe5bea1f6ec  x20c464aeffa23142           62      False\n",
       "4     1618236175  x1b85abcc497d0df3   3c72b592c9840ee8           82      False"
      ]
     },
     "execution_count": 3,
     "metadata": {},
     "output_type": "execute_result"
    }
   ],
   "source": [
    "df.head()"
   ]
  },
  {
   "cell_type": "code",
   "execution_count": 4,
   "id": "01997591",
   "metadata": {},
   "outputs": [
    {
     "data": {
      "text/plain": [
       "1"
      ]
     },
     "execution_count": 4,
     "metadata": {},
     "output_type": "execute_result"
    }
   ],
   "source": [
    "df.duplicated().nunique()"
   ]
  },
  {
   "cell_type": "markdown",
   "id": "65b1618b",
   "metadata": {},
   "source": [
    "Es gibt keine doppelten Datensätze"
   ]
  },
  {
   "cell_type": "markdown",
   "id": "26ef167e",
   "metadata": {},
   "source": [
    "# Die Aufgabenstellung\n",
    "\n",
    "Finde alle Kontaktpersonen (\"userId\") einer infizierten Person\n",
    "(\"indexCase\": true), die sich zur selben Zeit im selben Raum\n",
    "(\"locationId\") aufhielten, und berechne anhand von Scan-Zeitpunkten\n",
    "(\"scanTimestamp\") und Scan-Dauer (\"scanMinutes\") für diese Personen die\n",
    "Gesamtkontaktdauer zum Infizierten. Welche Personen haben ein hohes\n",
    "Risiko, sich mit Corona angesteckt zu haben?"
   ]
  },
  {
   "cell_type": "markdown",
   "id": "174043ea",
   "metadata": {},
   "source": [
    "## Die Variablen"
   ]
  },
  {
   "cell_type": "markdown",
   "id": "82b8c674",
   "metadata": {},
   "source": [
    "### scanTimestamp\n",
    "\n",
    "Unix TimeStamp wann der Eintritt in die location stattfand"
   ]
  },
  {
   "cell_type": "markdown",
   "id": "13349985",
   "metadata": {},
   "source": [
    "### locationId\n",
    "\n",
    "OrtID"
   ]
  },
  {
   "cell_type": "markdown",
   "id": "c2f198fe",
   "metadata": {},
   "source": [
    "### userId\n",
    "\n",
    "ID des Nutzers"
   ]
  },
  {
   "cell_type": "markdown",
   "id": "a6f76f24",
   "metadata": {},
   "source": [
    "### scanMinutes\n",
    "\n",
    "Dauer in Minuten zwischen Eintritt (scanTimestamp) bis zum Verlassen der location"
   ]
  },
  {
   "cell_type": "markdown",
   "id": "5fc82d23",
   "metadata": {},
   "source": [
    "### indexCase\n",
    "\n",
    "Corona-infiziert?"
   ]
  },
  {
   "cell_type": "markdown",
   "id": "cee0b35b",
   "metadata": {},
   "source": [
    "## Datenset umbauen mit klarem Zeitintervall auf dem Zahlenstrahl [s]"
   ]
  },
  {
   "cell_type": "code",
   "execution_count": 5,
   "id": "6066a1f7",
   "metadata": {},
   "outputs": [],
   "source": [
    "df.rename(columns={\"scanTimestamp\": \"enter\"},inplace=True)"
   ]
  },
  {
   "cell_type": "code",
   "execution_count": 6,
   "id": "72c2a9e3",
   "metadata": {},
   "outputs": [],
   "source": [
    "df[\"scanSecs\"] =  df.scanMinutes*60\n",
    "df[\"leave\"] = df.enter + df.scanSecs\n",
    "df[\"date\"] = df.enter.apply(lambda x: pd.Timestamp(x, unit = \"s\").date())\n",
    "df[\"date\"] = pd.to_datetime(df[\"date\"])"
   ]
  },
  {
   "cell_type": "code",
   "execution_count": 7,
   "id": "2e696483",
   "metadata": {},
   "outputs": [
    {
     "data": {
      "text/html": [
       "<div>\n",
       "<style scoped>\n",
       "    .dataframe tbody tr th:only-of-type {\n",
       "        vertical-align: middle;\n",
       "    }\n",
       "\n",
       "    .dataframe tbody tr th {\n",
       "        vertical-align: top;\n",
       "    }\n",
       "\n",
       "    .dataframe thead th {\n",
       "        text-align: right;\n",
       "    }\n",
       "</style>\n",
       "<table border=\"1\" class=\"dataframe\">\n",
       "  <thead>\n",
       "    <tr style=\"text-align: right;\">\n",
       "      <th></th>\n",
       "      <th>enter</th>\n",
       "      <th>locationId</th>\n",
       "      <th>userId</th>\n",
       "      <th>scanMinutes</th>\n",
       "      <th>indexCase</th>\n",
       "      <th>scanSecs</th>\n",
       "      <th>leave</th>\n",
       "      <th>date</th>\n",
       "    </tr>\n",
       "  </thead>\n",
       "  <tbody>\n",
       "    <tr>\n",
       "      <th>0</th>\n",
       "      <td>1618221536</td>\n",
       "      <td>a8f303e723297b4</td>\n",
       "      <td>x1cad2ea574d0e291</td>\n",
       "      <td>64</td>\n",
       "      <td>False</td>\n",
       "      <td>3840</td>\n",
       "      <td>1618225376</td>\n",
       "      <td>2021-04-12</td>\n",
       "    </tr>\n",
       "    <tr>\n",
       "      <th>1</th>\n",
       "      <td>1618244176</td>\n",
       "      <td>x6ba61b42d5c4e641</td>\n",
       "      <td>7f8aeb9aaac301a1</td>\n",
       "      <td>91</td>\n",
       "      <td>False</td>\n",
       "      <td>5460</td>\n",
       "      <td>1618249636</td>\n",
       "      <td>2021-04-12</td>\n",
       "    </tr>\n",
       "    <tr>\n",
       "      <th>2</th>\n",
       "      <td>1618235530</td>\n",
       "      <td>35b0e22fa29673e7</td>\n",
       "      <td>x2f0c35058f3505e9</td>\n",
       "      <td>69</td>\n",
       "      <td>False</td>\n",
       "      <td>4140</td>\n",
       "      <td>1618239670</td>\n",
       "      <td>2021-04-12</td>\n",
       "    </tr>\n",
       "    <tr>\n",
       "      <th>3</th>\n",
       "      <td>1618221097</td>\n",
       "      <td>381fbbe5bea1f6ec</td>\n",
       "      <td>x20c464aeffa23142</td>\n",
       "      <td>62</td>\n",
       "      <td>False</td>\n",
       "      <td>3720</td>\n",
       "      <td>1618224817</td>\n",
       "      <td>2021-04-12</td>\n",
       "    </tr>\n",
       "    <tr>\n",
       "      <th>4</th>\n",
       "      <td>1618236175</td>\n",
       "      <td>x1b85abcc497d0df3</td>\n",
       "      <td>3c72b592c9840ee8</td>\n",
       "      <td>82</td>\n",
       "      <td>False</td>\n",
       "      <td>4920</td>\n",
       "      <td>1618241095</td>\n",
       "      <td>2021-04-12</td>\n",
       "    </tr>\n",
       "  </tbody>\n",
       "</table>\n",
       "</div>"
      ],
      "text/plain": [
       "        enter         locationId             userId  scanMinutes  indexCase  \\\n",
       "0  1618221536    a8f303e723297b4  x1cad2ea574d0e291           64      False   \n",
       "1  1618244176  x6ba61b42d5c4e641   7f8aeb9aaac301a1           91      False   \n",
       "2  1618235530   35b0e22fa29673e7  x2f0c35058f3505e9           69      False   \n",
       "3  1618221097   381fbbe5bea1f6ec  x20c464aeffa23142           62      False   \n",
       "4  1618236175  x1b85abcc497d0df3   3c72b592c9840ee8           82      False   \n",
       "\n",
       "   scanSecs       leave       date  \n",
       "0      3840  1618225376 2021-04-12  \n",
       "1      5460  1618249636 2021-04-12  \n",
       "2      4140  1618239670 2021-04-12  \n",
       "3      3720  1618224817 2021-04-12  \n",
       "4      4920  1618241095 2021-04-12  "
      ]
     },
     "execution_count": 7,
     "metadata": {},
     "output_type": "execute_result"
    }
   ],
   "source": [
    "df.head()"
   ]
  },
  {
   "cell_type": "code",
   "execution_count": 8,
   "id": "2bc8f857",
   "metadata": {},
   "outputs": [
    {
     "name": "stdout",
     "output_type": "stream",
     "text": [
      "<class 'pandas.core.frame.DataFrame'>\n",
      "RangeIndex: 13955 entries, 0 to 13954\n",
      "Data columns (total 8 columns):\n",
      " #   Column       Non-Null Count  Dtype         \n",
      "---  ------       --------------  -----         \n",
      " 0   enter        13955 non-null  int64         \n",
      " 1   locationId   13955 non-null  object        \n",
      " 2   userId       13955 non-null  object        \n",
      " 3   scanMinutes  13955 non-null  int64         \n",
      " 4   indexCase    13955 non-null  bool          \n",
      " 5   scanSecs     13955 non-null  int64         \n",
      " 6   leave        13955 non-null  int64         \n",
      " 7   date         13955 non-null  datetime64[ns]\n",
      "dtypes: bool(1), datetime64[ns](1), int64(4), object(2)\n",
      "memory usage: 776.9+ KB\n"
     ]
    }
   ],
   "source": [
    "df.info()"
   ]
  },
  {
   "cell_type": "code",
   "execution_count": 9,
   "id": "79ba62c5",
   "metadata": {},
   "outputs": [
    {
     "data": {
      "text/plain": [
       "enter           8687\n",
       "locationId       175\n",
       "userId          4020\n",
       "scanMinutes       52\n",
       "indexCase          2\n",
       "scanSecs          52\n",
       "leave          10871\n",
       "date               1\n",
       "dtype: int64"
      ]
     },
     "execution_count": 9,
     "metadata": {},
     "output_type": "execute_result"
    }
   ],
   "source": [
    "df.nunique()"
   ]
  },
  {
   "cell_type": "markdown",
   "id": "5a8b3672",
   "metadata": {},
   "source": [
    "### Subfazit\n",
    "\n",
    "Es gibt 4020 unterschiedliche Personen und 175 unterschiedliche Orte. Der gesamte Datensatz betrachtet nur einen einzigen Tag, den 2021-04-12. \n",
    "\n",
    "Der Datensatz hat eine Größe von 13955 Beobachtungen, d. h. dass es 13955 Registrierungen einer Person an einem Ort gab."
   ]
  },
  {
   "cell_type": "code",
   "execution_count": 10,
   "id": "e541a96f",
   "metadata": {},
   "outputs": [
    {
     "data": {
      "text/plain": [
       "datetime.date(2021, 4, 12)"
      ]
     },
     "execution_count": 10,
     "metadata": {},
     "output_type": "execute_result"
    }
   ],
   "source": [
    "date = df.date[0].date()\n",
    "date"
   ]
  },
  {
   "cell_type": "markdown",
   "id": "81c581a8",
   "metadata": {},
   "source": [
    "## Alle infizierten Personen: df_sick"
   ]
  },
  {
   "cell_type": "code",
   "execution_count": 11,
   "id": "3aab2612",
   "metadata": {},
   "outputs": [],
   "source": [
    "df_sick = df[df[\"indexCase\"] == True]"
   ]
  },
  {
   "cell_type": "code",
   "execution_count": 12,
   "id": "d6e4da21",
   "metadata": {},
   "outputs": [
    {
     "data": {
      "text/html": [
       "<div>\n",
       "<style scoped>\n",
       "    .dataframe tbody tr th:only-of-type {\n",
       "        vertical-align: middle;\n",
       "    }\n",
       "\n",
       "    .dataframe tbody tr th {\n",
       "        vertical-align: top;\n",
       "    }\n",
       "\n",
       "    .dataframe thead th {\n",
       "        text-align: right;\n",
       "    }\n",
       "</style>\n",
       "<table border=\"1\" class=\"dataframe\">\n",
       "  <thead>\n",
       "    <tr style=\"text-align: right;\">\n",
       "      <th></th>\n",
       "      <th>enter</th>\n",
       "      <th>locationId</th>\n",
       "      <th>userId</th>\n",
       "      <th>scanMinutes</th>\n",
       "      <th>indexCase</th>\n",
       "      <th>scanSecs</th>\n",
       "      <th>leave</th>\n",
       "      <th>date</th>\n",
       "    </tr>\n",
       "  </thead>\n",
       "  <tbody>\n",
       "    <tr>\n",
       "      <th>2275</th>\n",
       "      <td>1618237658</td>\n",
       "      <td>x28d7ad68647cfd8f</td>\n",
       "      <td>x1d2f457ffccd37c6</td>\n",
       "      <td>94</td>\n",
       "      <td>True</td>\n",
       "      <td>5640</td>\n",
       "      <td>1618243298</td>\n",
       "      <td>2021-04-12</td>\n",
       "    </tr>\n",
       "    <tr>\n",
       "      <th>3798</th>\n",
       "      <td>1618221985</td>\n",
       "      <td>x28d7ad68647cfd8f</td>\n",
       "      <td>x1d2f457ffccd37c6</td>\n",
       "      <td>92</td>\n",
       "      <td>True</td>\n",
       "      <td>5520</td>\n",
       "      <td>1618227505</td>\n",
       "      <td>2021-04-12</td>\n",
       "    </tr>\n",
       "    <tr>\n",
       "      <th>9402</th>\n",
       "      <td>1618229117</td>\n",
       "      <td>x50444ff334d4b9af</td>\n",
       "      <td>x1d2f457ffccd37c6</td>\n",
       "      <td>95</td>\n",
       "      <td>True</td>\n",
       "      <td>5700</td>\n",
       "      <td>1618234817</td>\n",
       "      <td>2021-04-12</td>\n",
       "    </tr>\n",
       "    <tr>\n",
       "      <th>11049</th>\n",
       "      <td>1618251864</td>\n",
       "      <td>x50444ff334d4b9af</td>\n",
       "      <td>x1d2f457ffccd37c6</td>\n",
       "      <td>94</td>\n",
       "      <td>True</td>\n",
       "      <td>5640</td>\n",
       "      <td>1618257504</td>\n",
       "      <td>2021-04-12</td>\n",
       "    </tr>\n",
       "    <tr>\n",
       "      <th>12994</th>\n",
       "      <td>1618242930</td>\n",
       "      <td>x33e8e9d0b59c661</td>\n",
       "      <td>x1d2f457ffccd37c6</td>\n",
       "      <td>60</td>\n",
       "      <td>True</td>\n",
       "      <td>3600</td>\n",
       "      <td>1618246530</td>\n",
       "      <td>2021-04-12</td>\n",
       "    </tr>\n",
       "  </tbody>\n",
       "</table>\n",
       "</div>"
      ],
      "text/plain": [
       "            enter         locationId             userId  scanMinutes  \\\n",
       "2275   1618237658  x28d7ad68647cfd8f  x1d2f457ffccd37c6           94   \n",
       "3798   1618221985  x28d7ad68647cfd8f  x1d2f457ffccd37c6           92   \n",
       "9402   1618229117  x50444ff334d4b9af  x1d2f457ffccd37c6           95   \n",
       "11049  1618251864  x50444ff334d4b9af  x1d2f457ffccd37c6           94   \n",
       "12994  1618242930   x33e8e9d0b59c661  x1d2f457ffccd37c6           60   \n",
       "\n",
       "       indexCase  scanSecs       leave       date  \n",
       "2275        True      5640  1618243298 2021-04-12  \n",
       "3798        True      5520  1618227505 2021-04-12  \n",
       "9402        True      5700  1618234817 2021-04-12  \n",
       "11049       True      5640  1618257504 2021-04-12  \n",
       "12994       True      3600  1618246530 2021-04-12  "
      ]
     },
     "execution_count": 12,
     "metadata": {},
     "output_type": "execute_result"
    }
   ],
   "source": [
    "df_sick"
   ]
  },
  {
   "cell_type": "code",
   "execution_count": 13,
   "id": "dbb3d68a",
   "metadata": {},
   "outputs": [
    {
     "data": {
      "text/plain": [
       "enter          5\n",
       "locationId     3\n",
       "userId         1\n",
       "scanMinutes    4\n",
       "indexCase      1\n",
       "scanSecs       4\n",
       "leave          5\n",
       "date           1\n",
       "dtype: int64"
      ]
     },
     "execution_count": 13,
     "metadata": {},
     "output_type": "execute_result"
    }
   ],
   "source": [
    "df_sick.nunique()"
   ]
  },
  {
   "cell_type": "markdown",
   "id": "0a758410",
   "metadata": {},
   "source": [
    "### Subfazit\n",
    "\n",
    "Es gibt im gesamten Datensatz nur eine Person mit Corona. Diese Person war in 5 unterschiedlichen locactions."
   ]
  },
  {
   "cell_type": "markdown",
   "id": "9832dad4",
   "metadata": {},
   "source": [
    "## Überlegung\n",
    "\n",
    "+ sickPerson: Person mit Corona\n",
    "+ riskPerson: Person mit potentieller Chance Corona durch Kontakt zu bekommen\n",
    "\n",
    "#### Idee\n",
    "\n",
    "Damit eine zeitliche Überschneidung stattfindet muss entweder\n",
    "+ die riskPerson im Zeitintervall der Anwesenheit der sickPerson die location betreten\n",
    "+ oder im Zeitintervall der Anwesenheit der sickPerson die location verlassen."
   ]
  },
  {
   "cell_type": "code",
   "execution_count": 14,
   "id": "19901dd0",
   "metadata": {},
   "outputs": [],
   "source": [
    "df_riskpeople = pd.DataFrame()\n",
    "\n",
    "df0 = df[df[\"indexCase\"] == False]\n",
    "\n",
    "for enter, leave, locationId in zip(df_sick.enter, df_sick.leave, df_sick.locationId):\n",
    "    #riskperson kommt im Riskinterval\n",
    "    #riskperson geht im Riskinterval\n",
    "    \n",
    "    df_part = df0[( (((df0[\"enter\"]>= enter) & (df0[\"enter\"] <= leave )) | ((df0[\"leave\"]<= leave) & (df0[\"leave\"] >= enter))) & (df0[\"locationId\"] == locationId))]\n",
    "    #df_part = df0[(df0[\"locationId\"] == locationId )]\n",
    "    \n",
    "    df_riskpeople = pd.concat([df_riskpeople, df_part], axis=0)"
   ]
  },
  {
   "cell_type": "code",
   "execution_count": 15,
   "id": "ebd7eef2",
   "metadata": {},
   "outputs": [
    {
     "name": "stdout",
     "output_type": "stream",
     "text": [
      "<class 'pandas.core.frame.DataFrame'>\n",
      "Int64Index: 53 entries, 469 to 13670\n",
      "Data columns (total 8 columns):\n",
      " #   Column       Non-Null Count  Dtype         \n",
      "---  ------       --------------  -----         \n",
      " 0   enter        53 non-null     int64         \n",
      " 1   locationId   53 non-null     object        \n",
      " 2   userId       53 non-null     object        \n",
      " 3   scanMinutes  53 non-null     int64         \n",
      " 4   indexCase    53 non-null     bool          \n",
      " 5   scanSecs     53 non-null     int64         \n",
      " 6   leave        53 non-null     int64         \n",
      " 7   date         53 non-null     datetime64[ns]\n",
      "dtypes: bool(1), datetime64[ns](1), int64(4), object(2)\n",
      "memory usage: 3.4+ KB\n"
     ]
    }
   ],
   "source": [
    "df_riskpeople.info()"
   ]
  },
  {
   "cell_type": "code",
   "execution_count": 16,
   "id": "b291f917",
   "metadata": {},
   "outputs": [
    {
     "data": {
      "text/plain": [
       "enter          53\n",
       "locationId      3\n",
       "userId         35\n",
       "scanMinutes    32\n",
       "indexCase       1\n",
       "scanSecs       32\n",
       "leave          53\n",
       "date            1\n",
       "dtype: int64"
      ]
     },
     "execution_count": 16,
     "metadata": {},
     "output_type": "execute_result"
    }
   ],
   "source": [
    "df_riskpeople.nunique()"
   ]
  },
  {
   "cell_type": "code",
   "execution_count": 17,
   "id": "a97eb698",
   "metadata": {},
   "outputs": [
    {
     "data": {
      "text/html": [
       "<div>\n",
       "<style scoped>\n",
       "    .dataframe tbody tr th:only-of-type {\n",
       "        vertical-align: middle;\n",
       "    }\n",
       "\n",
       "    .dataframe tbody tr th {\n",
       "        vertical-align: top;\n",
       "    }\n",
       "\n",
       "    .dataframe thead th {\n",
       "        text-align: right;\n",
       "    }\n",
       "</style>\n",
       "<table border=\"1\" class=\"dataframe\">\n",
       "  <thead>\n",
       "    <tr style=\"text-align: right;\">\n",
       "      <th></th>\n",
       "      <th>enter</th>\n",
       "      <th>locationId</th>\n",
       "      <th>userId</th>\n",
       "      <th>scanMinutes</th>\n",
       "      <th>indexCase</th>\n",
       "      <th>scanSecs</th>\n",
       "      <th>leave</th>\n",
       "      <th>date</th>\n",
       "    </tr>\n",
       "  </thead>\n",
       "  <tbody>\n",
       "    <tr>\n",
       "      <th>469</th>\n",
       "      <td>1618236397</td>\n",
       "      <td>x28d7ad68647cfd8f</td>\n",
       "      <td>x61c3b41a955d1cb9</td>\n",
       "      <td>104</td>\n",
       "      <td>False</td>\n",
       "      <td>6240</td>\n",
       "      <td>1618242637</td>\n",
       "      <td>2021-04-12</td>\n",
       "    </tr>\n",
       "    <tr>\n",
       "      <th>2071</th>\n",
       "      <td>1618236201</td>\n",
       "      <td>x28d7ad68647cfd8f</td>\n",
       "      <td>x3d61515a1942a2e8</td>\n",
       "      <td>56</td>\n",
       "      <td>False</td>\n",
       "      <td>3360</td>\n",
       "      <td>1618239561</td>\n",
       "      <td>2021-04-12</td>\n",
       "    </tr>\n",
       "    <tr>\n",
       "      <th>5338</th>\n",
       "      <td>1618236952</td>\n",
       "      <td>x28d7ad68647cfd8f</td>\n",
       "      <td>x1eb182e442cce347</td>\n",
       "      <td>77</td>\n",
       "      <td>False</td>\n",
       "      <td>4620</td>\n",
       "      <td>1618241572</td>\n",
       "      <td>2021-04-12</td>\n",
       "    </tr>\n",
       "    <tr>\n",
       "      <th>8093</th>\n",
       "      <td>1618236878</td>\n",
       "      <td>x28d7ad68647cfd8f</td>\n",
       "      <td>x37b213acac06863d</td>\n",
       "      <td>92</td>\n",
       "      <td>False</td>\n",
       "      <td>5520</td>\n",
       "      <td>1618242398</td>\n",
       "      <td>2021-04-12</td>\n",
       "    </tr>\n",
       "    <tr>\n",
       "      <th>8584</th>\n",
       "      <td>1618235636</td>\n",
       "      <td>x28d7ad68647cfd8f</td>\n",
       "      <td>x166376289d0c4def</td>\n",
       "      <td>64</td>\n",
       "      <td>False</td>\n",
       "      <td>3840</td>\n",
       "      <td>1618239476</td>\n",
       "      <td>2021-04-12</td>\n",
       "    </tr>\n",
       "  </tbody>\n",
       "</table>\n",
       "</div>"
      ],
      "text/plain": [
       "           enter         locationId             userId  scanMinutes  \\\n",
       "469   1618236397  x28d7ad68647cfd8f  x61c3b41a955d1cb9          104   \n",
       "2071  1618236201  x28d7ad68647cfd8f  x3d61515a1942a2e8           56   \n",
       "5338  1618236952  x28d7ad68647cfd8f  x1eb182e442cce347           77   \n",
       "8093  1618236878  x28d7ad68647cfd8f  x37b213acac06863d           92   \n",
       "8584  1618235636  x28d7ad68647cfd8f  x166376289d0c4def           64   \n",
       "\n",
       "      indexCase  scanSecs       leave       date  \n",
       "469       False      6240  1618242637 2021-04-12  \n",
       "2071      False      3360  1618239561 2021-04-12  \n",
       "5338      False      4620  1618241572 2021-04-12  \n",
       "8093      False      5520  1618242398 2021-04-12  \n",
       "8584      False      3840  1618239476 2021-04-12  "
      ]
     },
     "execution_count": 17,
     "metadata": {},
     "output_type": "execute_result"
    }
   ],
   "source": [
    "df_riskpeople.head()"
   ]
  },
  {
   "cell_type": "markdown",
   "id": "10c12e39",
   "metadata": {},
   "source": [
    "### Subfazit\n",
    "\n",
    "Mit der infizierten Person gibt es 53 zeitliche Überschneidungen von insgesamt 35 unterschiedlichen Personen."
   ]
  },
  {
   "cell_type": "markdown",
   "id": "eb8ad584",
   "metadata": {},
   "source": [
    "# Ausgabeformat\n",
    "\n",
    "Im Sinne des Datenschutzes nehme ich an, dass nur wichtig ist zu wissen ob eine Person gefährdet ist oder nicht. Um Quarantänemaßnahmen zu planen oder anderweitiges wohl auch das Datum. Beim Ort kann man eventuell zu gute Rückschlüsse ziehen, wer die infizierte Person ist. \n",
    "\n",
    "Aber im Sinne der Auswertung werde ich für jede Person userId, alle locationId das date und contact_num (Anzahl der Kontakte) ausgeben."
   ]
  },
  {
   "cell_type": "code",
   "execution_count": 18,
   "id": "772788c3",
   "metadata": {},
   "outputs": [
    {
     "data": {
      "text/html": [
       "<div>\n",
       "<style scoped>\n",
       "    .dataframe tbody tr th:only-of-type {\n",
       "        vertical-align: middle;\n",
       "    }\n",
       "\n",
       "    .dataframe tbody tr th {\n",
       "        vertical-align: top;\n",
       "    }\n",
       "\n",
       "    .dataframe thead th {\n",
       "        text-align: right;\n",
       "    }\n",
       "</style>\n",
       "<table border=\"1\" class=\"dataframe\">\n",
       "  <thead>\n",
       "    <tr style=\"text-align: right;\">\n",
       "      <th></th>\n",
       "      <th>locations</th>\n",
       "      <th>contact_num</th>\n",
       "      <th>date</th>\n",
       "    </tr>\n",
       "    <tr>\n",
       "      <th>userId</th>\n",
       "      <th></th>\n",
       "      <th></th>\n",
       "      <th></th>\n",
       "    </tr>\n",
       "  </thead>\n",
       "  <tbody>\n",
       "    <tr>\n",
       "      <th>x61c3b41a955d1cb9</th>\n",
       "      <td>[x28d7ad68647cfd8f, x50444ff334d4b9af]</td>\n",
       "      <td>2</td>\n",
       "      <td>2021-04-12</td>\n",
       "    </tr>\n",
       "    <tr>\n",
       "      <th>x3d61515a1942a2e8</th>\n",
       "      <td>[x28d7ad68647cfd8f]</td>\n",
       "      <td>1</td>\n",
       "      <td>2021-04-12</td>\n",
       "    </tr>\n",
       "    <tr>\n",
       "      <th>x1eb182e442cce347</th>\n",
       "      <td>[x28d7ad68647cfd8f]</td>\n",
       "      <td>1</td>\n",
       "      <td>2021-04-12</td>\n",
       "    </tr>\n",
       "    <tr>\n",
       "      <th>x37b213acac06863d</th>\n",
       "      <td>[x28d7ad68647cfd8f]</td>\n",
       "      <td>1</td>\n",
       "      <td>2021-04-12</td>\n",
       "    </tr>\n",
       "    <tr>\n",
       "      <th>x166376289d0c4def</th>\n",
       "      <td>[x28d7ad68647cfd8f]</td>\n",
       "      <td>1</td>\n",
       "      <td>2021-04-12</td>\n",
       "    </tr>\n",
       "  </tbody>\n",
       "</table>\n",
       "</div>"
      ],
      "text/plain": [
       "                                                locations  contact_num  \\\n",
       "userId                                                                   \n",
       "x61c3b41a955d1cb9  [x28d7ad68647cfd8f, x50444ff334d4b9af]            2   \n",
       "x3d61515a1942a2e8                     [x28d7ad68647cfd8f]            1   \n",
       "x1eb182e442cce347                     [x28d7ad68647cfd8f]            1   \n",
       "x37b213acac06863d                     [x28d7ad68647cfd8f]            1   \n",
       "x166376289d0c4def                     [x28d7ad68647cfd8f]            1   \n",
       "\n",
       "                         date  \n",
       "userId                         \n",
       "x61c3b41a955d1cb9  2021-04-12  \n",
       "x3d61515a1942a2e8  2021-04-12  \n",
       "x1eb182e442cce347  2021-04-12  \n",
       "x37b213acac06863d  2021-04-12  \n",
       "x166376289d0c4def  2021-04-12  "
      ]
     },
     "execution_count": 18,
     "metadata": {},
     "output_type": "execute_result"
    }
   ],
   "source": [
    "df_output = pd.DataFrame(data = df_riskpeople[\"userId\"].unique(), columns=[\"userId\"])\n",
    "\n",
    "tmp = df_riskpeople.groupby(['userId'])['locationId'].unique().to_dict()\n",
    "df_output['locations'] = df_output['userId'].map(tmp)\n",
    "df_output[\"contact_num\"] = df_output[\"locations\"].apply(lambda x: len(x))\n",
    "df_output[\"contact_num\"] = df_output[\"contact_num\"].astype(int)\n",
    "df_output[\"date\"] = [date for _ in range(len(df_output))]\n",
    "#df_output[\"date\"] = pd.to_datetime(df_output[\"date\"])\n",
    "df_output.set_index(\"userId\", inplace=True)\n",
    "df_output.head()"
   ]
  },
  {
   "cell_type": "code",
   "execution_count": 19,
   "id": "4504156e",
   "metadata": {},
   "outputs": [
    {
     "name": "stdout",
     "output_type": "stream",
     "text": [
      "<class 'pandas.core.frame.DataFrame'>\n",
      "Index: 35 entries, x61c3b41a955d1cb9 to 30723b215852be59\n",
      "Data columns (total 3 columns):\n",
      " #   Column       Non-Null Count  Dtype \n",
      "---  ------       --------------  ----- \n",
      " 0   locations    35 non-null     object\n",
      " 1   contact_num  35 non-null     int64 \n",
      " 2   date         35 non-null     object\n",
      "dtypes: int64(1), object(2)\n",
      "memory usage: 1.1+ KB\n"
     ]
    }
   ],
   "source": [
    "df_output.info()"
   ]
  },
  {
   "cell_type": "code",
   "execution_count": 20,
   "id": "bd848e6d",
   "metadata": {},
   "outputs": [
    {
     "data": {
      "text/plain": [
       "Text(0.5, 1.0, 'Number of contacts with infected person')"
      ]
     },
     "execution_count": 20,
     "metadata": {},
     "output_type": "execute_result"
    },
    {
     "data": {
      "image/png": "[encoded data removed]",
      "text/plain": [
       "<Figure size 432x288 with 1 Axes>"
      ]
     },
     "metadata": {
      "needs_background": "light"
     },
     "output_type": "display_data"
    }
   ],
   "source": [
    "ax = sns.histplot(data = df_output,x = \"contact_num\")\n",
    "ax.set_title(\"Number of contacts with infected person\")"
   ]
  },
  {
   "cell_type": "markdown",
   "id": "07ae5fbe",
   "metadata": {},
   "source": [
    "Man kann ganz schön erkennen, dass die meisten Personen mit einem Kontakt nur einen Kontakt hatten. Sehr selten sind drei Kontakte. Um aufgrund der Häufigkeit eine Aussage zu treffen, müssten mehr Informationen vorliegen, ob dieses Kriterium in irgend einer Weise zu Buche schlägt. \n",
    "\n",
    "Weiterhin ist sicherlich auch interessant die zeitliche Überschneidungsdauer zu betrachten. Soweit meine Erinnerung, ist das Maß von 15 Minuten in großer Nähe bisher als Kriterium für eine hohe Ansteckungswahrscheinlichkeit gehandelt worden. Diese Information habe ich nicht extrahiert und ausgegeben und wäre Teil der weiteren Ausarbeitung.\n",
    "\n",
    "Auch kann die Anzahl der Personen pro Zeitintervall und Raum für bestimmte Räume ein Maß sein, da überfüllte kleine Räume zu höherer Ansteckungsgefahr deuten können.\n",
    "\n",
    "Ebenfalls, könnte man, da jede Person einen QR Code scannen muss besonders die Zeit des Scans plus minus einige Sekunden als sehr gefährlich ansehen, wenn sich eine Menschentraube bildet, um sich hier zu registrieren. Das sind aber nur Mutmaßungen, die nähere Informationen der Örtlichkeit benötigen. In diesem Fall könnte man neben der Zeitschnittmenge von Menschen in einem Raum auch ein Scanzeitintervall als Gefahrenpotential erkennen. Vergleich von Personen, die dann scannen (zum Einchecken oder Auschecken) wenn auch die infizierte Person scannt.\n",
    "\n",
    "Für betroffene Menschen sind nach meiner Analyse, ausschließlich begründet auf wenigen Stunden Beschäftigung mit dem Thema hier, Erinnerungen und Nachdenken, wohl \n",
    "+ die binäre Aussage (Risiko ja/nein?)\n",
    "+ Datum der potentiellen Ansteckung\n",
    "+ Gradmesser für die Wahrscheinlichkeit einer Ansteckung bei Kontakt (begründet auf Dauer, Anzahl Kontakte...)\n"
   ]
  },
  {
   "cell_type": "markdown",
   "id": "82778024",
   "metadata": {},
   "source": [
    "## Speichern als .json"
   ]
  },
  {
   "cell_type": "code",
   "execution_count": 21,
   "id": "aab2559e",
   "metadata": {},
   "outputs": [],
   "source": [
    "df_output.to_json(\"./data/riskPeople.json\", orient=\"values\")"
   ]
  },
  {
   "cell_type": "markdown",
   "id": "d1fc7703",
   "metadata": {},
   "source": [
    "# Ausblick\n",
    "\n",
    "Mit meiner Idee nutze ich die pandas Bibliothek von python, so wie ich es gelernt habe im DataScience Kurs. Hierbei werden alle Daten in den Arbeitsspeicher geladen. Ich kann mir vorstellen, dass mein Verfahren nicht geeignet ist für große Datenmengen.\n",
    "\n",
    "### Nur ein weiteres Gedankenexperiment:\n",
    "\n",
    "Mein anfängliches Ziel war die Überführung der Infektionsgefahr in einen Zeitstrahlvektor (errechnet aus allen Orten und Zeitintervallen der infizierten Personen) und einen locationVector entsprechend des Zeitstrahlvektors kodiert, um danach für die Auswertung durch ein einfaches inneres Produkt auszuwerten ob eine Person gefährdet ist oder nicht. Der Zeitstrahlvektor hätte nur Werte zwischen 0 und 1 enthalten (keine Ansteckungsgefahr, Ansteckungsgefahr). Der locationVektor hätte auch nur 0 und 1 enthalten (zur Zeit NICHT am Ort, zur Zeit SCHON am Ort). Ort wäre die Liste aller gefährdeten Orte gewesen. \n",
    "\n",
    "Die Gefahr ist ein sehr langer Zeitstrahlvektor bei vielen Infizierten und dadurch eine sehr große Segmentation und Rechenzeit. Bei wenigen infizierten wäre das Verfahren sehr schnell, da der Zeitstrahlvektor nur aufgrund der infizierten Personen errechnet wird und dann die Kodierung der Zeitesquenz klar wäre. Nun könnte nacheinander jede zu evaluierende gefährete Person geladen werden, deren locationVektor erstellt werden und über das innere Produkt eine errechnete Lösung getroffen werden. Alternativ kann aber auch einfach hier durch Fallunterscheidung das Ziel erreicht werden. \n",
    "\n",
    "Die Idee ist in keinster Weise ausgereift. Da es darum geht zu sehen wie ich analytisch mit dem meinem begrenzten Programmierwissen umgehe, wollte ich über meine sehr einfache Lösung hinaus noch etwas vorschlagen. \n",
    "\n",
    "Die Motivation ist ein Verfahren, dass durch MatrixMultiplikation zu einem binären Ergebnis kommt (die Suche nach einer Nicht-Datenbanksuch-Lösung) und Daten nacheinander laden kann.\n"
   ]
  }
 ],
 "metadata": {
  "kernelspec": {
   "display_name": "Python 3",
   "language": "python",
   "name": "python3"
  },
  "language_info": {
   "codemirror_mode": {
    "name": "ipython",
    "version": 3
   },
   "file_extension": ".py",
   "mimetype": "text/x-python",
   "name": "python",
   "nbconvert_exporter": "python",
   "pygments_lexer": "ipython3",
   "version": "3.8.5"
  }
 },
 "nbformat": 4,
 "nbformat_minor": 5
}
